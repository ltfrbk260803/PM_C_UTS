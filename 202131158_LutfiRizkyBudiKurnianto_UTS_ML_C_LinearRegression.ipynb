{
 "cells": [
  {
   "cell_type": "markdown",
   "id": "71d9daea",
   "metadata": {},
   "source": [
    "# Memanggil Dataset R02_rice_field.csv"
   ]
  },
  {
   "cell_type": "code",
   "execution_count": 1,
   "id": "1e0d5672",
   "metadata": {},
   "outputs": [
    {
     "data": {
      "text/html": [
       "<div>\n",
       "<style scoped>\n",
       "    .dataframe tbody tr th:only-of-type {\n",
       "        vertical-align: middle;\n",
       "    }\n",
       "\n",
       "    .dataframe tbody tr th {\n",
       "        vertical-align: top;\n",
       "    }\n",
       "\n",
       "    .dataframe thead th {\n",
       "        text-align: right;\n",
       "    }\n",
       "</style>\n",
       "<table border=\"1\" class=\"dataframe\">\n",
       "  <thead>\n",
       "    <tr style=\"text-align: right;\">\n",
       "      <th></th>\n",
       "      <th>Production (X)</th>\n",
       "      <th>Harvest Area (Y)</th>\n",
       "    </tr>\n",
       "  </thead>\n",
       "  <tbody>\n",
       "    <tr>\n",
       "      <th>0</th>\n",
       "      <td>1329536.00</td>\n",
       "      <td>323589.00</td>\n",
       "    </tr>\n",
       "    <tr>\n",
       "      <th>1</th>\n",
       "      <td>1299699.00</td>\n",
       "      <td>329041.00</td>\n",
       "    </tr>\n",
       "    <tr>\n",
       "      <th>2</th>\n",
       "      <td>1382905.00</td>\n",
       "      <td>339253.00</td>\n",
       "    </tr>\n",
       "    <tr>\n",
       "      <th>3</th>\n",
       "      <td>1419128.00</td>\n",
       "      <td>348223.00</td>\n",
       "    </tr>\n",
       "    <tr>\n",
       "      <th>4</th>\n",
       "      <td>1368074.00</td>\n",
       "      <td>337561.00</td>\n",
       "    </tr>\n",
       "    <tr>\n",
       "      <th>...</th>\n",
       "      <td>...</td>\n",
       "      <td>...</td>\n",
       "    </tr>\n",
       "    <tr>\n",
       "      <th>219</th>\n",
       "      <td>3831923.00</td>\n",
       "      <td>390799.00</td>\n",
       "    </tr>\n",
       "    <tr>\n",
       "      <th>220</th>\n",
       "      <td>4090654.00</td>\n",
       "      <td>396559.00</td>\n",
       "    </tr>\n",
       "    <tr>\n",
       "      <th>221</th>\n",
       "      <td>2488641.91</td>\n",
       "      <td>511940.93</td>\n",
       "    </tr>\n",
       "    <tr>\n",
       "      <th>222</th>\n",
       "      <td>2164089.33</td>\n",
       "      <td>464103.42</td>\n",
       "    </tr>\n",
       "    <tr>\n",
       "      <th>223</th>\n",
       "      <td>2604913.29</td>\n",
       "      <td>545149.05</td>\n",
       "    </tr>\n",
       "  </tbody>\n",
       "</table>\n",
       "<p>224 rows × 2 columns</p>\n",
       "</div>"
      ],
      "text/plain": [
       "     Production (X)  Harvest Area (Y)\n",
       "0        1329536.00         323589.00\n",
       "1        1299699.00         329041.00\n",
       "2        1382905.00         339253.00\n",
       "3        1419128.00         348223.00\n",
       "4        1368074.00         337561.00\n",
       "..              ...               ...\n",
       "219      3831923.00         390799.00\n",
       "220      4090654.00         396559.00\n",
       "221      2488641.91         511940.93\n",
       "222      2164089.33         464103.42\n",
       "223      2604913.29         545149.05\n",
       "\n",
       "[224 rows x 2 columns]"
      ]
     },
     "execution_count": 1,
     "metadata": {},
     "output_type": "execute_result"
    }
   ],
   "source": [
    "import pandas as pd\n",
    "\n",
    "dataset = pd.read_csv('R02_rice_field.csv')\n",
    "dataset"
   ]
  },
  {
   "cell_type": "markdown",
   "id": "52eb7457",
   "metadata": {},
   "source": [
    "# Splitting data X dan Y dengan perbandingan 80:20"
   ]
  },
  {
   "cell_type": "code",
   "execution_count": 2,
   "id": "63982876",
   "metadata": {},
   "outputs": [],
   "source": [
    "X = dataset['Production (X)'].values.reshape(-1,1)\n",
    "Y = dataset['Harvest Area (Y)'].values"
   ]
  },
  {
   "cell_type": "code",
   "execution_count": 3,
   "id": "5121c8c6",
   "metadata": {},
   "outputs": [],
   "source": [
    "from sklearn.model_selection import train_test_split\n",
    "\n",
    "x_train, x_test, y_train, y_test = train_test_split(X, Y, test_size=.2, random_state=42)"
   ]
  },
  {
   "cell_type": "markdown",
   "id": "e25e4a80",
   "metadata": {},
   "source": [
    "# Modelling menggunakan LinearRegression()"
   ]
  },
  {
   "cell_type": "code",
   "execution_count": 4,
   "id": "35b1969e",
   "metadata": {},
   "outputs": [
    {
     "data": {
      "text/plain": [
       "LinearRegression()"
      ]
     },
     "execution_count": 4,
     "metadata": {},
     "output_type": "execute_result"
    }
   ],
   "source": [
    "from sklearn.linear_model import LinearRegression\n",
    "\n",
    "model = LinearRegression()\n",
    "model.fit(x_train, y_train)"
   ]
  },
  {
   "cell_type": "markdown",
   "id": "30471260",
   "metadata": {},
   "source": [
    "# Akurasi dari model"
   ]
  },
  {
   "cell_type": "code",
   "execution_count": 5,
   "id": "649855c4",
   "metadata": {},
   "outputs": [
    {
     "name": "stdout",
     "output_type": "stream",
     "text": [
      "Akurasi dari modelnya adalah: 81.3%\n"
     ]
    }
   ],
   "source": [
    "import numpy as np\n",
    "\n",
    "akurasi = model.score(x_train, y_train)*100\n",
    "print(f\"Akurasi dari modelnya adalah: {np.round(akurasi,2)}%\")"
   ]
  },
  {
   "cell_type": "markdown",
   "id": "13a61983",
   "metadata": {},
   "source": [
    "# Melakukan prediksi pada Data Testing"
   ]
  },
  {
   "cell_type": "code",
   "execution_count": 6,
   "id": "9c25fd1f",
   "metadata": {},
   "outputs": [
    {
     "data": {
      "text/plain": [
       "array([306726.95624337, 149591.5262631 , 169993.56427924, 353844.78106441,\n",
       "       516954.38708121, 172579.17086937, 412912.24315444, 149206.1464785 ,\n",
       "       139481.97454251, 164013.64424026, 443142.98893937, 322500.49891804,\n",
       "       424430.67749677, 385097.40618687, 632566.72760117, 712715.87798236,\n",
       "       142553.37803715, 336947.14122603, 451710.48274165,  79181.5835364 ,\n",
       "       142493.77215314, 388850.08166617, 516826.7785804 , 312713.67815501,\n",
       "       405081.6767648 , 369810.02914981, 199302.47553352, 407148.19307376,\n",
       "       391491.53521069, 174394.55488025, 550104.94051908, 409708.02414649,\n",
       "       345963.73761984, 175072.95217873, 630902.59575843, 177730.69441828,\n",
       "       661333.99499655, 119707.50772646, 495429.69819427, 150482.75057686,\n",
       "       323802.16254721, 423455.68275143, 158291.30037872, 171118.91620947,\n",
       "       607446.13028981])"
      ]
     },
     "execution_count": 6,
     "metadata": {},
     "output_type": "execute_result"
    }
   ],
   "source": [
    "predict = model.predict(x_test)\n",
    "predict"
   ]
  },
  {
   "cell_type": "markdown",
   "id": "21d521be",
   "metadata": {},
   "source": [
    "# Memeriksa Mean Absolute Error, Mean Squared Error, RMSE, dan R2 Score dari model"
   ]
  },
  {
   "cell_type": "code",
   "execution_count": 7,
   "id": "e8b465c8",
   "metadata": {},
   "outputs": [
    {
     "name": "stdout",
     "output_type": "stream",
     "text": [
      "Mean Absolute Error dari model: 51963.846719204565\n",
      "Mean Squared Error dari model: 5942443013.399283\n",
      "RMSE dari model: 77087.24287065456\n",
      "Akurasinya adalah: 79.02%\n"
     ]
    }
   ],
   "source": [
    "import numpy as np\n",
    "from sklearn.metrics import mean_absolute_error, mean_squared_error, r2_score\n",
    "\n",
    "mae = mean_absolute_error(predict, y_test)\n",
    "mse = mean_squared_error(predict, y_test)\n",
    "rmse = np.sqrt(mse)\n",
    "akurasi = r2_score(predict, y_test)\n",
    "\n",
    "print(f'Mean Absolute Error dari model: {mae}')\n",
    "print(f'Mean Squared Error dari model: {mse}')\n",
    "print(f'RMSE dari model: {rmse}')\n",
    "print(f'Akurasinya adalah: {np.round((akurasi*100),2)}%')"
   ]
  },
  {
   "cell_type": "markdown",
   "id": "a3ec82b0",
   "metadata": {},
   "source": [
    "# Visualisasi data menggunakan plot dan scatter"
   ]
  },
  {
   "cell_type": "code",
   "execution_count": 8,
   "id": "913c8489",
   "metadata": {},
   "outputs": [
    {
     "data": {
      "image/png": "[encoded data removed]",
      "text/plain": [
       "<Figure size 640x480 with 1 Axes>"
      ]
     },
     "metadata": {},
     "output_type": "display_data"
    }
   ],
   "source": [
    "import matplotlib.pyplot as plt\n",
    "\n",
    "plt.scatter(x_test, y_test, c='blue', s=10)\n",
    "plt.plot(x_test, predict, c='red')\n",
    "plt.xlabel(\"Data Production\")\n",
    "plt.ylabel(\"Data Harvest Area\")\n",
    "plt.show()"
   ]
  },
  {
   "cell_type": "code",
   "execution_count": null,
   "id": "7643ff82",
   "metadata": {},
   "outputs": [],
   "source": []
  }
 ],
 "metadata": {
  "kernelspec": {
   "display_name": "Python 3 (ipykernel)",
   "language": "python",
   "name": "python3"
  },
  "language_info": {
   "codemirror_mode": {
    "name": "ipython",
    "version": 3
   },
   "file_extension": ".py",
   "mimetype": "text/x-python",
   "name": "python",
   "nbconvert_exporter": "python",
   "pygments_lexer": "ipython3",
   "version": "3.9.13"
  }
 },
 "nbformat": 4,
 "nbformat_minor": 5
}
